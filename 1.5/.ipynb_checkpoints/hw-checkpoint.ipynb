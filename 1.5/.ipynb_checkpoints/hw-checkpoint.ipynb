{
 "cells": [
  {
   "cell_type": "code",
   "execution_count": 1,
   "id": "709e33fa",
   "metadata": {
    "ExecuteTime": {
     "end_time": "2022-11-10T10:28:54.181166Z",
     "start_time": "2022-11-10T10:28:53.630668Z"
    }
   },
   "outputs": [],
   "source": [
    "import pandas as pd\n",
    "import matplotlib.pyplot as plt"
   ]
  },
  {
   "cell_type": "code",
   "execution_count": 2,
   "id": "1b487a78",
   "metadata": {
    "ExecuteTime": {
     "end_time": "2022-11-10T10:28:54.185823Z",
     "start_time": "2022-11-10T10:28:54.182156Z"
    }
   },
   "outputs": [],
   "source": [
    "df = pd.read_csv('./ds_salaries.csv')"
   ]
  },
  {
   "cell_type": "code",
   "execution_count": 3,
   "id": "b53468f2",
   "metadata": {
    "ExecuteTime": {
     "end_time": "2022-11-10T10:28:54.188357Z",
     "start_time": "2022-11-10T10:28:54.186450Z"
    }
   },
   "outputs": [],
   "source": [
    "del df['Unnamed: 0']"
   ]
  },
  {
   "cell_type": "code",
   "execution_count": 4,
   "id": "e52db93e",
   "metadata": {
    "ExecuteTime": {
     "end_time": "2022-11-10T10:28:54.196874Z",
     "start_time": "2022-11-10T10:28:54.189353Z"
    }
   },
   "outputs": [
    {
     "data": {
      "text/html": [
       "<div>\n",
       "<style scoped>\n",
       "    .dataframe tbody tr th:only-of-type {\n",
       "        vertical-align: middle;\n",
       "    }\n",
       "\n",
       "    .dataframe tbody tr th {\n",
       "        vertical-align: top;\n",
       "    }\n",
       "\n",
       "    .dataframe thead th {\n",
       "        text-align: right;\n",
       "    }\n",
       "</style>\n",
       "<table border=\"1\" class=\"dataframe\">\n",
       "  <thead>\n",
       "    <tr style=\"text-align: right;\">\n",
       "      <th></th>\n",
       "      <th>work_year</th>\n",
       "      <th>experience_level</th>\n",
       "      <th>employment_type</th>\n",
       "      <th>job_title</th>\n",
       "      <th>salary</th>\n",
       "      <th>salary_currency</th>\n",
       "      <th>salary_in_usd</th>\n",
       "      <th>employee_residence</th>\n",
       "      <th>remote_ratio</th>\n",
       "      <th>company_location</th>\n",
       "      <th>company_size</th>\n",
       "    </tr>\n",
       "  </thead>\n",
       "  <tbody>\n",
       "    <tr>\n",
       "      <th>0</th>\n",
       "      <td>2020</td>\n",
       "      <td>MI</td>\n",
       "      <td>FT</td>\n",
       "      <td>Data Scientist</td>\n",
       "      <td>70000</td>\n",
       "      <td>EUR</td>\n",
       "      <td>79833</td>\n",
       "      <td>DE</td>\n",
       "      <td>0</td>\n",
       "      <td>DE</td>\n",
       "      <td>L</td>\n",
       "    </tr>\n",
       "    <tr>\n",
       "      <th>1</th>\n",
       "      <td>2020</td>\n",
       "      <td>SE</td>\n",
       "      <td>FT</td>\n",
       "      <td>Machine Learning Scientist</td>\n",
       "      <td>260000</td>\n",
       "      <td>USD</td>\n",
       "      <td>260000</td>\n",
       "      <td>JP</td>\n",
       "      <td>0</td>\n",
       "      <td>JP</td>\n",
       "      <td>S</td>\n",
       "    </tr>\n",
       "    <tr>\n",
       "      <th>2</th>\n",
       "      <td>2020</td>\n",
       "      <td>SE</td>\n",
       "      <td>FT</td>\n",
       "      <td>Big Data Engineer</td>\n",
       "      <td>85000</td>\n",
       "      <td>GBP</td>\n",
       "      <td>109024</td>\n",
       "      <td>GB</td>\n",
       "      <td>50</td>\n",
       "      <td>GB</td>\n",
       "      <td>M</td>\n",
       "    </tr>\n",
       "    <tr>\n",
       "      <th>3</th>\n",
       "      <td>2020</td>\n",
       "      <td>MI</td>\n",
       "      <td>FT</td>\n",
       "      <td>Product Data Analyst</td>\n",
       "      <td>20000</td>\n",
       "      <td>USD</td>\n",
       "      <td>20000</td>\n",
       "      <td>HN</td>\n",
       "      <td>0</td>\n",
       "      <td>HN</td>\n",
       "      <td>S</td>\n",
       "    </tr>\n",
       "    <tr>\n",
       "      <th>4</th>\n",
       "      <td>2020</td>\n",
       "      <td>SE</td>\n",
       "      <td>FT</td>\n",
       "      <td>Machine Learning Engineer</td>\n",
       "      <td>150000</td>\n",
       "      <td>USD</td>\n",
       "      <td>150000</td>\n",
       "      <td>US</td>\n",
       "      <td>50</td>\n",
       "      <td>US</td>\n",
       "      <td>L</td>\n",
       "    </tr>\n",
       "  </tbody>\n",
       "</table>\n",
       "</div>"
      ],
      "text/plain": [
       "   work_year experience_level employment_type                   job_title  \\\n",
       "0       2020               MI              FT              Data Scientist   \n",
       "1       2020               SE              FT  Machine Learning Scientist   \n",
       "2       2020               SE              FT           Big Data Engineer   \n",
       "3       2020               MI              FT        Product Data Analyst   \n",
       "4       2020               SE              FT   Machine Learning Engineer   \n",
       "\n",
       "   salary salary_currency  salary_in_usd employee_residence  remote_ratio  \\\n",
       "0   70000             EUR          79833                 DE             0   \n",
       "1  260000             USD         260000                 JP             0   \n",
       "2   85000             GBP         109024                 GB            50   \n",
       "3   20000             USD          20000                 HN             0   \n",
       "4  150000             USD         150000                 US            50   \n",
       "\n",
       "  company_location company_size  \n",
       "0               DE            L  \n",
       "1               JP            S  \n",
       "2               GB            M  \n",
       "3               HN            S  \n",
       "4               US            L  "
      ]
     },
     "execution_count": 4,
     "metadata": {},
     "output_type": "execute_result"
    }
   ],
   "source": [
    "df.head()"
   ]
  },
  {
   "cell_type": "markdown",
   "id": "9fb86745",
   "metadata": {},
   "source": [
    "Какая средняя и медианная зарплата по группам вакансий?"
   ]
  },
  {
   "cell_type": "code",
   "execution_count": 5,
   "id": "4a07ccf8",
   "metadata": {
    "ExecuteTime": {
     "end_time": "2022-11-10T10:28:54.200272Z",
     "start_time": "2022-11-10T10:28:54.197685Z"
    }
   },
   "outputs": [
    {
     "data": {
      "text/plain": [
       "array(['Data Scientist', 'Machine Learning Scientist',\n",
       "       'Big Data Engineer', 'Product Data Analyst',\n",
       "       'Machine Learning Engineer', 'Data Analyst', 'Lead Data Scientist',\n",
       "       'Business Data Analyst', 'Lead Data Engineer', 'Lead Data Analyst',\n",
       "       'Data Engineer', 'Data Science Consultant', 'BI Data Analyst',\n",
       "       'Director of Data Science', 'Research Scientist',\n",
       "       'Machine Learning Manager', 'Data Engineering Manager',\n",
       "       'Machine Learning Infrastructure Engineer', 'ML Engineer',\n",
       "       'AI Scientist', 'Computer Vision Engineer',\n",
       "       'Principal Data Scientist', 'Data Science Manager', 'Head of Data',\n",
       "       '3D Computer Vision Researcher', 'Data Analytics Engineer',\n",
       "       'Applied Data Scientist', 'Marketing Data Analyst',\n",
       "       'Cloud Data Engineer', 'Financial Data Analyst',\n",
       "       'Computer Vision Software Engineer',\n",
       "       'Director of Data Engineering', 'Data Science Engineer',\n",
       "       'Principal Data Engineer', 'Machine Learning Developer',\n",
       "       'Applied Machine Learning Scientist', 'Data Analytics Manager',\n",
       "       'Head of Data Science', 'Data Specialist', 'Data Architect',\n",
       "       'Finance Data Analyst', 'Principal Data Analyst',\n",
       "       'Big Data Architect', 'Staff Data Scientist', 'Analytics Engineer',\n",
       "       'ETL Developer', 'Head of Machine Learning', 'NLP Engineer',\n",
       "       'Lead Machine Learning Engineer', 'Data Analytics Lead'],\n",
       "      dtype=object)"
      ]
     },
     "execution_count": 5,
     "metadata": {},
     "output_type": "execute_result"
    }
   ],
   "source": [
    "df['job_title'].unique()"
   ]
  },
  {
   "cell_type": "code",
   "execution_count": 6,
   "id": "4bf0f205",
   "metadata": {
    "ExecuteTime": {
     "end_time": "2022-11-10T10:28:54.204438Z",
     "start_time": "2022-11-10T10:28:54.201084Z"
    }
   },
   "outputs": [],
   "source": [
    "job_type = {\n",
    "    'Data Scientist':'DS',\n",
    "    'Machine Learning Scientist':'ML',\n",
    "    'Big Data Engineer':'DE',\n",
    "    'Product Data Analyst':'DA',\n",
    "    'Machine Learning Engineer':'ML',\n",
    "    'Data Analyst':'DA',\n",
    "    'Lead Data Scientist':'DS',\n",
    "    'Business Data Analyst':'DA',\n",
    "    'Lead Data Engineer':'DE',\n",
    "    'Lead Data Analyst':'DA',\n",
    "    'Data Engineer':'DA',\n",
    "    'Data Science Consultant':'DS',\n",
    "    'BI Data Analyst':'DA',\n",
    "    'Director of Data Science':'DS',\n",
    "    'Research Scientist':'DS',\n",
    "    'Machine Learning Manager':'ML',\n",
    "    'Data Engineering Manager':'DE',\n",
    "    'Machine Learning Infrastructure Engineer':'ML',\n",
    "    'ML Engineer':'ML',\n",
    "    'AI Scientist':'DS',\n",
    "    'Computer Vision Engineer':'DS',\n",
    "    'Principal Data Scientist':'DS',\n",
    "    'Data Science Manager':'DS',\n",
    "    'Head of Data':'DS',\n",
    "    '3D Computer Vision Researcher':'DS',\n",
    "    'Data Analytics Engineer':'DA',\n",
    "    'Applied Data Scientist':'DS',\n",
    "    'Marketing Data Analyst':'DA',\n",
    "    'Cloud Data Engineer':'DE',\n",
    "    'Financial Data Analyst':'DA',\n",
    "    'Computer Vision Software Engineer':'SE',\n",
    "    'Director of Data Engineering':'DE',\n",
    "    'Data Science Engineer':'DE',\n",
    "    'Principal Data Engineer':'DE',\n",
    "    'Machine Learning Developer':'ML',\n",
    "    'Applied Machine Learning Scientist':'ML',\n",
    "    'Data Analytics Manager':'DA',\n",
    "    'Head of Data Science':'DS',\n",
    "    'Data Specialist':'DS',\n",
    "    'Data Architect':'DE',\n",
    "    'Finance Data Analyst':'DA',\n",
    "    'Principal Data Analyst':'DA',\n",
    "    'Big Data Architect':'DE',\n",
    "    'Staff Data Scientist':'DS',\n",
    "    'Analytics Engineer':'DE',\n",
    "    'ETL Developer':'DE',\n",
    "    'Head of Machine Learning':'ML',\n",
    "    'NLP Engineer':'DE',\n",
    "    'Lead Machine Learning Engineer':'ML',\n",
    "    'Data Analytics Lead':'DA'\n",
    "}"
   ]
  },
  {
   "cell_type": "code",
   "execution_count": 7,
   "id": "6ebdbfcc",
   "metadata": {
    "ExecuteTime": {
     "end_time": "2022-11-10T10:28:54.207470Z",
     "start_time": "2022-11-10T10:28:54.205134Z"
    }
   },
   "outputs": [],
   "source": [
    "df['job_type'] = df['job_title'].map(job_type)"
   ]
  },
  {
   "cell_type": "code",
   "execution_count": 8,
   "id": "a35a4710",
   "metadata": {
    "ExecuteTime": {
     "end_time": "2022-11-10T10:28:54.214272Z",
     "start_time": "2022-11-10T10:28:54.208219Z"
    }
   },
   "outputs": [
    {
     "data": {
      "text/html": [
       "<div>\n",
       "<style scoped>\n",
       "    .dataframe tbody tr th:only-of-type {\n",
       "        vertical-align: middle;\n",
       "    }\n",
       "\n",
       "    .dataframe tbody tr th {\n",
       "        vertical-align: top;\n",
       "    }\n",
       "\n",
       "    .dataframe thead th {\n",
       "        text-align: right;\n",
       "    }\n",
       "</style>\n",
       "<table border=\"1\" class=\"dataframe\">\n",
       "  <thead>\n",
       "    <tr style=\"text-align: right;\">\n",
       "      <th></th>\n",
       "      <th>mean</th>\n",
       "      <th>median</th>\n",
       "    </tr>\n",
       "    <tr>\n",
       "      <th>job_type</th>\n",
       "      <th></th>\n",
       "      <th></th>\n",
       "    </tr>\n",
       "  </thead>\n",
       "  <tbody>\n",
       "    <tr>\n",
       "      <th>DA</th>\n",
       "      <td>104657.0</td>\n",
       "      <td>100000.0</td>\n",
       "    </tr>\n",
       "    <tr>\n",
       "      <th>DE</th>\n",
       "      <td>136436.0</td>\n",
       "      <td>131110.0</td>\n",
       "    </tr>\n",
       "    <tr>\n",
       "      <th>DS</th>\n",
       "      <td>115954.0</td>\n",
       "      <td>105000.0</td>\n",
       "    </tr>\n",
       "    <tr>\n",
       "      <th>ML</th>\n",
       "      <td>113026.0</td>\n",
       "      <td>87932.0</td>\n",
       "    </tr>\n",
       "    <tr>\n",
       "      <th>SE</th>\n",
       "      <td>105249.0</td>\n",
       "      <td>95746.0</td>\n",
       "    </tr>\n",
       "  </tbody>\n",
       "</table>\n",
       "</div>"
      ],
      "text/plain": [
       "              mean    median\n",
       "job_type                    \n",
       "DA        104657.0  100000.0\n",
       "DE        136436.0  131110.0\n",
       "DS        115954.0  105000.0\n",
       "ML        113026.0   87932.0\n",
       "SE        105249.0   95746.0"
      ]
     },
     "execution_count": 8,
     "metadata": {},
     "output_type": "execute_result"
    }
   ],
   "source": [
    "df.groupby(by='job_type')['salary_in_usd'].agg(['mean', 'median']).round()"
   ]
  },
  {
   "cell_type": "markdown",
   "id": "c14a51db",
   "metadata": {},
   "source": [
    "Какая средняя и медианная зарплата по каждому региону?"
   ]
  },
  {
   "cell_type": "code",
   "execution_count": 9,
   "id": "3d298e11",
   "metadata": {
    "ExecuteTime": {
     "end_time": "2022-11-10T10:28:54.217227Z",
     "start_time": "2022-11-10T10:28:54.215011Z"
    }
   },
   "outputs": [
    {
     "data": {
      "text/plain": [
       "array(['DE', 'JP', 'GB', 'HN', 'US', 'HU', 'NZ', 'FR', 'IN', 'PK', 'CN',\n",
       "       'GR', 'AE', 'NL', 'MX', 'CA', 'AT', 'NG', 'ES', 'PT', 'DK', 'IT',\n",
       "       'HR', 'LU', 'PL', 'SG', 'RO', 'IQ', 'BR', 'BE', 'UA', 'IL', 'RU',\n",
       "       'MT', 'CL', 'IR', 'CO', 'MD', 'KE', 'SI', 'CH', 'VN', 'AS', 'TR',\n",
       "       'CZ', 'DZ', 'EE', 'MY', 'AU', 'IE'], dtype=object)"
      ]
     },
     "execution_count": 9,
     "metadata": {},
     "output_type": "execute_result"
    }
   ],
   "source": [
    "df.company_location.unique()"
   ]
  },
  {
   "cell_type": "code",
   "execution_count": 10,
   "id": "152a160c",
   "metadata": {
    "ExecuteTime": {
     "end_time": "2022-11-10T10:28:54.495159Z",
     "start_time": "2022-11-10T10:28:54.218558Z"
    }
   },
   "outputs": [],
   "source": [
    "cc = pd.read_csv('https://raw.githubusercontent.com/lukes/ISO-3166-Countries-with-Regional-Codes/master/all/all.csv')"
   ]
  },
  {
   "cell_type": "code",
   "execution_count": 11,
   "id": "39e6af3b",
   "metadata": {
    "ExecuteTime": {
     "end_time": "2022-11-10T10:28:54.507859Z",
     "start_time": "2022-11-10T10:28:54.496478Z"
    }
   },
   "outputs": [
    {
     "data": {
      "text/html": [
       "<div>\n",
       "<style scoped>\n",
       "    .dataframe tbody tr th:only-of-type {\n",
       "        vertical-align: middle;\n",
       "    }\n",
       "\n",
       "    .dataframe tbody tr th {\n",
       "        vertical-align: top;\n",
       "    }\n",
       "\n",
       "    .dataframe thead th {\n",
       "        text-align: right;\n",
       "    }\n",
       "</style>\n",
       "<table border=\"1\" class=\"dataframe\">\n",
       "  <thead>\n",
       "    <tr style=\"text-align: right;\">\n",
       "      <th></th>\n",
       "      <th>name</th>\n",
       "      <th>alpha-2</th>\n",
       "      <th>alpha-3</th>\n",
       "      <th>country-code</th>\n",
       "      <th>iso_3166-2</th>\n",
       "      <th>region</th>\n",
       "      <th>sub-region</th>\n",
       "      <th>intermediate-region</th>\n",
       "      <th>region-code</th>\n",
       "      <th>sub-region-code</th>\n",
       "      <th>intermediate-region-code</th>\n",
       "    </tr>\n",
       "  </thead>\n",
       "  <tbody>\n",
       "    <tr>\n",
       "      <th>0</th>\n",
       "      <td>Afghanistan</td>\n",
       "      <td>AF</td>\n",
       "      <td>AFG</td>\n",
       "      <td>4</td>\n",
       "      <td>ISO 3166-2:AF</td>\n",
       "      <td>Asia</td>\n",
       "      <td>Southern Asia</td>\n",
       "      <td>NaN</td>\n",
       "      <td>142.0</td>\n",
       "      <td>34.0</td>\n",
       "      <td>NaN</td>\n",
       "    </tr>\n",
       "    <tr>\n",
       "      <th>1</th>\n",
       "      <td>Åland Islands</td>\n",
       "      <td>AX</td>\n",
       "      <td>ALA</td>\n",
       "      <td>248</td>\n",
       "      <td>ISO 3166-2:AX</td>\n",
       "      <td>Europe</td>\n",
       "      <td>Northern Europe</td>\n",
       "      <td>NaN</td>\n",
       "      <td>150.0</td>\n",
       "      <td>154.0</td>\n",
       "      <td>NaN</td>\n",
       "    </tr>\n",
       "    <tr>\n",
       "      <th>2</th>\n",
       "      <td>Albania</td>\n",
       "      <td>AL</td>\n",
       "      <td>ALB</td>\n",
       "      <td>8</td>\n",
       "      <td>ISO 3166-2:AL</td>\n",
       "      <td>Europe</td>\n",
       "      <td>Southern Europe</td>\n",
       "      <td>NaN</td>\n",
       "      <td>150.0</td>\n",
       "      <td>39.0</td>\n",
       "      <td>NaN</td>\n",
       "    </tr>\n",
       "    <tr>\n",
       "      <th>3</th>\n",
       "      <td>Algeria</td>\n",
       "      <td>DZ</td>\n",
       "      <td>DZA</td>\n",
       "      <td>12</td>\n",
       "      <td>ISO 3166-2:DZ</td>\n",
       "      <td>Africa</td>\n",
       "      <td>Northern Africa</td>\n",
       "      <td>NaN</td>\n",
       "      <td>2.0</td>\n",
       "      <td>15.0</td>\n",
       "      <td>NaN</td>\n",
       "    </tr>\n",
       "    <tr>\n",
       "      <th>4</th>\n",
       "      <td>American Samoa</td>\n",
       "      <td>AS</td>\n",
       "      <td>ASM</td>\n",
       "      <td>16</td>\n",
       "      <td>ISO 3166-2:AS</td>\n",
       "      <td>Oceania</td>\n",
       "      <td>Polynesia</td>\n",
       "      <td>NaN</td>\n",
       "      <td>9.0</td>\n",
       "      <td>61.0</td>\n",
       "      <td>NaN</td>\n",
       "    </tr>\n",
       "  </tbody>\n",
       "</table>\n",
       "</div>"
      ],
      "text/plain": [
       "             name alpha-2 alpha-3  country-code     iso_3166-2   region  \\\n",
       "0     Afghanistan      AF     AFG             4  ISO 3166-2:AF     Asia   \n",
       "1   Åland Islands      AX     ALA           248  ISO 3166-2:AX   Europe   \n",
       "2         Albania      AL     ALB             8  ISO 3166-2:AL   Europe   \n",
       "3         Algeria      DZ     DZA            12  ISO 3166-2:DZ   Africa   \n",
       "4  American Samoa      AS     ASM            16  ISO 3166-2:AS  Oceania   \n",
       "\n",
       "        sub-region intermediate-region  region-code  sub-region-code  \\\n",
       "0    Southern Asia                 NaN        142.0             34.0   \n",
       "1  Northern Europe                 NaN        150.0            154.0   \n",
       "2  Southern Europe                 NaN        150.0             39.0   \n",
       "3  Northern Africa                 NaN          2.0             15.0   \n",
       "4        Polynesia                 NaN          9.0             61.0   \n",
       "\n",
       "   intermediate-region-code  \n",
       "0                       NaN  \n",
       "1                       NaN  \n",
       "2                       NaN  \n",
       "3                       NaN  \n",
       "4                       NaN  "
      ]
     },
     "execution_count": 11,
     "metadata": {},
     "output_type": "execute_result"
    }
   ],
   "source": [
    "cc.head()"
   ]
  },
  {
   "cell_type": "code",
   "execution_count": 12,
   "id": "f841200e",
   "metadata": {
    "ExecuteTime": {
     "end_time": "2022-11-10T10:28:54.514993Z",
     "start_time": "2022-11-10T10:28:54.509161Z"
    }
   },
   "outputs": [],
   "source": [
    "df = df.merge(right = cc,\n",
    "        how = 'inner',\n",
    "        left_on = 'company_location',\n",
    "        right_on = 'alpha-2')"
   ]
  },
  {
   "cell_type": "code",
   "execution_count": 13,
   "id": "1ec52821",
   "metadata": {
    "ExecuteTime": {
     "end_time": "2022-11-10T10:28:54.534020Z",
     "start_time": "2022-11-10T10:28:54.516233Z"
    }
   },
   "outputs": [
    {
     "data": {
      "text/html": [
       "<div>\n",
       "<style scoped>\n",
       "    .dataframe tbody tr th:only-of-type {\n",
       "        vertical-align: middle;\n",
       "    }\n",
       "\n",
       "    .dataframe tbody tr th {\n",
       "        vertical-align: top;\n",
       "    }\n",
       "\n",
       "    .dataframe thead th {\n",
       "        text-align: right;\n",
       "    }\n",
       "</style>\n",
       "<table border=\"1\" class=\"dataframe\">\n",
       "  <thead>\n",
       "    <tr style=\"text-align: right;\">\n",
       "      <th></th>\n",
       "      <th>work_year</th>\n",
       "      <th>experience_level</th>\n",
       "      <th>employment_type</th>\n",
       "      <th>job_title</th>\n",
       "      <th>salary</th>\n",
       "      <th>salary_currency</th>\n",
       "      <th>salary_in_usd</th>\n",
       "      <th>employee_residence</th>\n",
       "      <th>remote_ratio</th>\n",
       "      <th>company_location</th>\n",
       "      <th>...</th>\n",
       "      <th>alpha-2</th>\n",
       "      <th>alpha-3</th>\n",
       "      <th>country-code</th>\n",
       "      <th>iso_3166-2</th>\n",
       "      <th>region</th>\n",
       "      <th>sub-region</th>\n",
       "      <th>intermediate-region</th>\n",
       "      <th>region-code</th>\n",
       "      <th>sub-region-code</th>\n",
       "      <th>intermediate-region-code</th>\n",
       "    </tr>\n",
       "  </thead>\n",
       "  <tbody>\n",
       "    <tr>\n",
       "      <th>0</th>\n",
       "      <td>2020</td>\n",
       "      <td>MI</td>\n",
       "      <td>FT</td>\n",
       "      <td>Data Scientist</td>\n",
       "      <td>70000</td>\n",
       "      <td>EUR</td>\n",
       "      <td>79833</td>\n",
       "      <td>DE</td>\n",
       "      <td>0</td>\n",
       "      <td>DE</td>\n",
       "      <td>...</td>\n",
       "      <td>DE</td>\n",
       "      <td>DEU</td>\n",
       "      <td>276</td>\n",
       "      <td>ISO 3166-2:DE</td>\n",
       "      <td>Europe</td>\n",
       "      <td>Western Europe</td>\n",
       "      <td>NaN</td>\n",
       "      <td>150.0</td>\n",
       "      <td>155.0</td>\n",
       "      <td>NaN</td>\n",
       "    </tr>\n",
       "    <tr>\n",
       "      <th>1</th>\n",
       "      <td>2020</td>\n",
       "      <td>MI</td>\n",
       "      <td>FT</td>\n",
       "      <td>Data Engineering Manager</td>\n",
       "      <td>51999</td>\n",
       "      <td>EUR</td>\n",
       "      <td>59303</td>\n",
       "      <td>DE</td>\n",
       "      <td>100</td>\n",
       "      <td>DE</td>\n",
       "      <td>...</td>\n",
       "      <td>DE</td>\n",
       "      <td>DEU</td>\n",
       "      <td>276</td>\n",
       "      <td>ISO 3166-2:DE</td>\n",
       "      <td>Europe</td>\n",
       "      <td>Western Europe</td>\n",
       "      <td>NaN</td>\n",
       "      <td>150.0</td>\n",
       "      <td>155.0</td>\n",
       "      <td>NaN</td>\n",
       "    </tr>\n",
       "    <tr>\n",
       "      <th>2</th>\n",
       "      <td>2020</td>\n",
       "      <td>EN</td>\n",
       "      <td>PT</td>\n",
       "      <td>ML Engineer</td>\n",
       "      <td>14000</td>\n",
       "      <td>EUR</td>\n",
       "      <td>15966</td>\n",
       "      <td>DE</td>\n",
       "      <td>100</td>\n",
       "      <td>DE</td>\n",
       "      <td>...</td>\n",
       "      <td>DE</td>\n",
       "      <td>DEU</td>\n",
       "      <td>276</td>\n",
       "      <td>ISO 3166-2:DE</td>\n",
       "      <td>Europe</td>\n",
       "      <td>Western Europe</td>\n",
       "      <td>NaN</td>\n",
       "      <td>150.0</td>\n",
       "      <td>155.0</td>\n",
       "      <td>NaN</td>\n",
       "    </tr>\n",
       "    <tr>\n",
       "      <th>3</th>\n",
       "      <td>2020</td>\n",
       "      <td>EN</td>\n",
       "      <td>FT</td>\n",
       "      <td>Data Engineer</td>\n",
       "      <td>48000</td>\n",
       "      <td>EUR</td>\n",
       "      <td>54742</td>\n",
       "      <td>PK</td>\n",
       "      <td>100</td>\n",
       "      <td>DE</td>\n",
       "      <td>...</td>\n",
       "      <td>DE</td>\n",
       "      <td>DEU</td>\n",
       "      <td>276</td>\n",
       "      <td>ISO 3166-2:DE</td>\n",
       "      <td>Europe</td>\n",
       "      <td>Western Europe</td>\n",
       "      <td>NaN</td>\n",
       "      <td>150.0</td>\n",
       "      <td>155.0</td>\n",
       "      <td>NaN</td>\n",
       "    </tr>\n",
       "    <tr>\n",
       "      <th>4</th>\n",
       "      <td>2020</td>\n",
       "      <td>SE</td>\n",
       "      <td>FT</td>\n",
       "      <td>Principal Data Scientist</td>\n",
       "      <td>130000</td>\n",
       "      <td>EUR</td>\n",
       "      <td>148261</td>\n",
       "      <td>DE</td>\n",
       "      <td>100</td>\n",
       "      <td>DE</td>\n",
       "      <td>...</td>\n",
       "      <td>DE</td>\n",
       "      <td>DEU</td>\n",
       "      <td>276</td>\n",
       "      <td>ISO 3166-2:DE</td>\n",
       "      <td>Europe</td>\n",
       "      <td>Western Europe</td>\n",
       "      <td>NaN</td>\n",
       "      <td>150.0</td>\n",
       "      <td>155.0</td>\n",
       "      <td>NaN</td>\n",
       "    </tr>\n",
       "  </tbody>\n",
       "</table>\n",
       "<p>5 rows × 23 columns</p>\n",
       "</div>"
      ],
      "text/plain": [
       "   work_year experience_level employment_type                 job_title  \\\n",
       "0       2020               MI              FT            Data Scientist   \n",
       "1       2020               MI              FT  Data Engineering Manager   \n",
       "2       2020               EN              PT               ML Engineer   \n",
       "3       2020               EN              FT             Data Engineer   \n",
       "4       2020               SE              FT  Principal Data Scientist   \n",
       "\n",
       "   salary salary_currency  salary_in_usd employee_residence  remote_ratio  \\\n",
       "0   70000             EUR          79833                 DE             0   \n",
       "1   51999             EUR          59303                 DE           100   \n",
       "2   14000             EUR          15966                 DE           100   \n",
       "3   48000             EUR          54742                 PK           100   \n",
       "4  130000             EUR         148261                 DE           100   \n",
       "\n",
       "  company_location  ... alpha-2 alpha-3 country-code     iso_3166-2  region  \\\n",
       "0               DE  ...      DE     DEU          276  ISO 3166-2:DE  Europe   \n",
       "1               DE  ...      DE     DEU          276  ISO 3166-2:DE  Europe   \n",
       "2               DE  ...      DE     DEU          276  ISO 3166-2:DE  Europe   \n",
       "3               DE  ...      DE     DEU          276  ISO 3166-2:DE  Europe   \n",
       "4               DE  ...      DE     DEU          276  ISO 3166-2:DE  Europe   \n",
       "\n",
       "       sub-region intermediate-region region-code sub-region-code  \\\n",
       "0  Western Europe                 NaN       150.0           155.0   \n",
       "1  Western Europe                 NaN       150.0           155.0   \n",
       "2  Western Europe                 NaN       150.0           155.0   \n",
       "3  Western Europe                 NaN       150.0           155.0   \n",
       "4  Western Europe                 NaN       150.0           155.0   \n",
       "\n",
       "  intermediate-region-code  \n",
       "0                      NaN  \n",
       "1                      NaN  \n",
       "2                      NaN  \n",
       "3                      NaN  \n",
       "4                      NaN  \n",
       "\n",
       "[5 rows x 23 columns]"
      ]
     },
     "execution_count": 13,
     "metadata": {},
     "output_type": "execute_result"
    }
   ],
   "source": [
    "df.head()"
   ]
  },
  {
   "cell_type": "code",
   "execution_count": 14,
   "id": "def355e0",
   "metadata": {
    "ExecuteTime": {
     "end_time": "2022-11-10T10:28:54.544053Z",
     "start_time": "2022-11-10T10:28:54.535382Z"
    },
    "scrolled": true
   },
   "outputs": [
    {
     "data": {
      "text/html": [
       "<div>\n",
       "<style scoped>\n",
       "    .dataframe tbody tr th:only-of-type {\n",
       "        vertical-align: middle;\n",
       "    }\n",
       "\n",
       "    .dataframe tbody tr th {\n",
       "        vertical-align: top;\n",
       "    }\n",
       "\n",
       "    .dataframe thead th {\n",
       "        text-align: right;\n",
       "    }\n",
       "</style>\n",
       "<table border=\"1\" class=\"dataframe\">\n",
       "  <thead>\n",
       "    <tr style=\"text-align: right;\">\n",
       "      <th></th>\n",
       "      <th>mean</th>\n",
       "      <th>median</th>\n",
       "    </tr>\n",
       "    <tr>\n",
       "      <th>region</th>\n",
       "      <th></th>\n",
       "      <th></th>\n",
       "    </tr>\n",
       "  </thead>\n",
       "  <tbody>\n",
       "    <tr>\n",
       "      <th>Africa</th>\n",
       "      <td>42318.0</td>\n",
       "      <td>30000.0</td>\n",
       "    </tr>\n",
       "    <tr>\n",
       "      <th>Americas</th>\n",
       "      <td>137991.0</td>\n",
       "      <td>130000.0</td>\n",
       "    </tr>\n",
       "    <tr>\n",
       "      <th>Asia</th>\n",
       "      <td>48313.0</td>\n",
       "      <td>29751.0</td>\n",
       "    </tr>\n",
       "    <tr>\n",
       "      <th>Europe</th>\n",
       "      <td>69358.0</td>\n",
       "      <td>63831.0</td>\n",
       "    </tr>\n",
       "    <tr>\n",
       "      <th>Oceania</th>\n",
       "      <td>93436.0</td>\n",
       "      <td>87425.0</td>\n",
       "    </tr>\n",
       "  </tbody>\n",
       "</table>\n",
       "</div>"
      ],
      "text/plain": [
       "              mean    median\n",
       "region                      \n",
       "Africa     42318.0   30000.0\n",
       "Americas  137991.0  130000.0\n",
       "Asia       48313.0   29751.0\n",
       "Europe     69358.0   63831.0\n",
       "Oceania    93436.0   87425.0"
      ]
     },
     "execution_count": 14,
     "metadata": {},
     "output_type": "execute_result"
    }
   ],
   "source": [
    "df.groupby(by='region')['salary_in_usd'].agg(['mean', 'median']).round()"
   ]
  },
  {
   "cell_type": "markdown",
   "id": "e8905f8a",
   "metadata": {},
   "source": [
    "Какая самая высокооплачиваемая из групп вакансий, исходя из их средних зарплат?"
   ]
  },
  {
   "cell_type": "code",
   "execution_count": 15,
   "id": "7254e6b0",
   "metadata": {
    "ExecuteTime": {
     "end_time": "2022-11-10T10:28:54.549933Z",
     "start_time": "2022-11-10T10:28:54.545262Z"
    }
   },
   "outputs": [],
   "source": [
    "topSal = df.groupby(by='job_type', as_index=False)['salary_in_usd'].mean()"
   ]
  },
  {
   "cell_type": "code",
   "execution_count": 16,
   "id": "acdb6eb6",
   "metadata": {
    "ExecuteTime": {
     "end_time": "2022-11-10T10:28:54.555784Z",
     "start_time": "2022-11-10T10:28:54.551210Z"
    }
   },
   "outputs": [
    {
     "data": {
      "text/plain": [
       "1    DE\n",
       "Name: job_type, dtype: object"
      ]
     },
     "execution_count": 16,
     "metadata": {},
     "output_type": "execute_result"
    }
   ],
   "source": [
    "topSal[topSal['salary_in_usd'] == topSal['salary_in_usd'].max()]['job_type']"
   ]
  },
  {
   "cell_type": "markdown",
   "id": "a7ba8793",
   "metadata": {},
   "source": [
    "Какое процентное соотношение каждого региона по вакансиям от всех вакансий?"
   ]
  },
  {
   "cell_type": "code",
   "execution_count": 17,
   "id": "650a0882",
   "metadata": {
    "ExecuteTime": {
     "end_time": "2022-11-10T10:28:54.561468Z",
     "start_time": "2022-11-10T10:28:54.556904Z"
    }
   },
   "outputs": [
    {
     "data": {
      "text/plain": [
       "Americas    64.909390\n",
       "Europe      25.864909\n",
       "Asia         7.742998\n",
       "Oceania      0.823723\n",
       "Africa       0.658979\n",
       "Name: region, dtype: float64"
      ]
     },
     "execution_count": 17,
     "metadata": {},
     "output_type": "execute_result"
    }
   ],
   "source": [
    "df.region.value_counts(normalize=True)*100"
   ]
  },
  {
   "cell_type": "markdown",
   "id": "1952c8c7",
   "metadata": {},
   "source": [
    "Какая корреляция уровня опыта от зарплаты? (Преобразовать уровень опыта в числовой тип, если возможно. Например: 'MI': 0, 'SE': 1, 'EN': 2, 'EX': 3)"
   ]
  },
  {
   "cell_type": "code",
   "execution_count": 18,
   "id": "9e309710",
   "metadata": {
    "ExecuteTime": {
     "end_time": "2022-11-10T10:28:54.565637Z",
     "start_time": "2022-11-10T10:28:54.562611Z"
    }
   },
   "outputs": [
    {
     "data": {
      "text/plain": [
       "array(['MI', 'EN', 'SE', 'EX'], dtype=object)"
      ]
     },
     "execution_count": 18,
     "metadata": {},
     "output_type": "execute_result"
    }
   ],
   "source": [
    "df.experience_level.unique()"
   ]
  },
  {
   "cell_type": "code",
   "execution_count": 19,
   "id": "cb418e5d",
   "metadata": {
    "ExecuteTime": {
     "end_time": "2022-11-10T10:28:54.568674Z",
     "start_time": "2022-11-10T10:28:54.566702Z"
    }
   },
   "outputs": [],
   "source": [
    "exp_lvl = {\n",
    "    'EN':0,\n",
    "    'MI':1,\n",
    "    'SE':2,\n",
    "    'EX':3\n",
    "}"
   ]
  },
  {
   "cell_type": "code",
   "execution_count": 20,
   "id": "21cb5e0e",
   "metadata": {
    "ExecuteTime": {
     "end_time": "2022-11-10T10:28:54.572546Z",
     "start_time": "2022-11-10T10:28:54.569915Z"
    }
   },
   "outputs": [],
   "source": [
    "df['exp_type'] = df['experience_level'].map(exp_lvl)"
   ]
  },
  {
   "cell_type": "code",
   "execution_count": 21,
   "id": "ba3c54d5",
   "metadata": {
    "ExecuteTime": {
     "end_time": "2022-11-10T10:28:54.579898Z",
     "start_time": "2022-11-10T10:28:54.573804Z"
    }
   },
   "outputs": [
    {
     "data": {
      "text/html": [
       "<div>\n",
       "<style scoped>\n",
       "    .dataframe tbody tr th:only-of-type {\n",
       "        vertical-align: middle;\n",
       "    }\n",
       "\n",
       "    .dataframe tbody tr th {\n",
       "        vertical-align: top;\n",
       "    }\n",
       "\n",
       "    .dataframe thead th {\n",
       "        text-align: right;\n",
       "    }\n",
       "</style>\n",
       "<table border=\"1\" class=\"dataframe\">\n",
       "  <thead>\n",
       "    <tr style=\"text-align: right;\">\n",
       "      <th></th>\n",
       "      <th>exp_type</th>\n",
       "      <th>salary_in_usd</th>\n",
       "    </tr>\n",
       "  </thead>\n",
       "  <tbody>\n",
       "    <tr>\n",
       "      <th>exp_type</th>\n",
       "      <td>1.000000</td>\n",
       "      <td>0.484233</td>\n",
       "    </tr>\n",
       "    <tr>\n",
       "      <th>salary_in_usd</th>\n",
       "      <td>0.484233</td>\n",
       "      <td>1.000000</td>\n",
       "    </tr>\n",
       "  </tbody>\n",
       "</table>\n",
       "</div>"
      ],
      "text/plain": [
       "               exp_type  salary_in_usd\n",
       "exp_type       1.000000       0.484233\n",
       "salary_in_usd  0.484233       1.000000"
      ]
     },
     "execution_count": 21,
     "metadata": {},
     "output_type": "execute_result"
    }
   ],
   "source": [
    "df[['exp_type', 'salary_in_usd']].corr()"
   ]
  },
  {
   "cell_type": "code",
   "execution_count": 22,
   "id": "997bc9d5",
   "metadata": {
    "ExecuteTime": {
     "end_time": "2022-11-10T10:28:54.582712Z",
     "start_time": "2022-11-10T10:28:54.581166Z"
    }
   },
   "outputs": [],
   "source": [
    "#Думал будет более выражена)"
   ]
  },
  {
   "cell_type": "code",
   "execution_count": 23,
   "id": "cb07a6fd",
   "metadata": {
    "ExecuteTime": {
     "end_time": "2022-11-10T10:28:54.693820Z",
     "start_time": "2022-11-10T10:28:54.583871Z"
    }
   },
   "outputs": [
    {
     "data": {
      "image/png": "[encoded data removed]",
      "text/plain": [
       "<Figure size 432x288 with 1 Axes>"
      ]
     },
     "metadata": {
      "needs_background": "light"
     },
     "output_type": "display_data"
    }
   ],
   "source": [
    "df.groupby(by='experience_level')['salary_in_usd'].mean().plot(kind='bar')\n",
    "plt.show()"
   ]
  },
  {
   "cell_type": "markdown",
   "id": "53367851",
   "metadata": {},
   "source": [
    "Сколько должностей в наборе данных?"
   ]
  },
  {
   "cell_type": "code",
   "execution_count": 24,
   "id": "5cec9e36",
   "metadata": {
    "ExecuteTime": {
     "end_time": "2022-11-10T10:28:54.697372Z",
     "start_time": "2022-11-10T10:28:54.694695Z"
    }
   },
   "outputs": [
    {
     "data": {
      "text/plain": [
       "50"
      ]
     },
     "execution_count": 24,
     "metadata": {},
     "output_type": "execute_result"
    }
   ],
   "source": [
    "df['job_title'].nunique()"
   ]
  },
  {
   "cell_type": "code",
   "execution_count": 25,
   "id": "1d756ca2",
   "metadata": {
    "ExecuteTime": {
     "end_time": "2022-11-10T10:28:54.701564Z",
     "start_time": "2022-11-10T10:28:54.698367Z"
    }
   },
   "outputs": [
    {
     "data": {
      "text/plain": [
       "Data Scientist                143\n",
       "Data Engineer                 132\n",
       "Data Analyst                   97\n",
       "Machine Learning Engineer      41\n",
       "Research Scientist             16\n",
       "Data Science Manager           12\n",
       "Data Architect                 11\n",
       "Machine Learning Scientist      8\n",
       "Big Data Engineer               8\n",
       "AI Scientist                    7\n",
       "Name: job_title, dtype: int64"
      ]
     },
     "execution_count": 25,
     "metadata": {},
     "output_type": "execute_result"
    }
   ],
   "source": [
    "df['job_title'].value_counts()[:10]"
   ]
  }
 ],
 "metadata": {
  "kernelspec": {
   "display_name": "Python [conda env:February2021] *",
   "language": "python",
   "name": "conda-env-February2021-py"
  },
  "language_info": {
   "codemirror_mode": {
    "name": "ipython",
    "version": 3
   },
   "file_extension": ".py",
   "mimetype": "text/x-python",
   "name": "python",
   "nbconvert_exporter": "python",
   "pygments_lexer": "ipython3",
   "version": "3.8.12"
  },
  "varInspector": {
   "cols": {
    "lenName": 16,
    "lenType": 16,
    "lenVar": 40
   },
   "kernels_config": {
    "python": {
     "delete_cmd_postfix": "",
     "delete_cmd_prefix": "del ",
     "library": "var_list.py",
     "varRefreshCmd": "print(var_dic_list())"
    },
    "r": {
     "delete_cmd_postfix": ") ",
     "delete_cmd_prefix": "rm(",
     "library": "var_list.r",
     "varRefreshCmd": "cat(var_dic_list()) "
    }
   },
   "types_to_exclude": [
    "module",
    "function",
    "builtin_function_or_method",
    "instance",
    "_Feature"
   ],
   "window_display": false
  }
 },
 "nbformat": 4,
 "nbformat_minor": 5
}
